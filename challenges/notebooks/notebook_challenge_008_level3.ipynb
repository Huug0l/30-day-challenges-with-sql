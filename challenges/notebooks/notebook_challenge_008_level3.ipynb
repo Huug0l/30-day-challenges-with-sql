{
  "cells": [
    {
      "cell_type": "markdown",
      "metadata": {
        "id": "view-in-github",
        "colab_type": "text"
      },
      "source": [
        "<a href=\"https://colab.research.google.com/github/Huug0l/30-day-challenges-with-sql/blob/main/challenges/notebooks/notebook_challenge_008_level3.ipynb\" target=\"_parent\"><img src=\"https://colab.research.google.com/assets/colab-badge.svg\" alt=\"Open In Colab\"/></a>"
      ]
    },
    {
      "cell_type": "markdown",
      "id": "160bbfb2",
      "metadata": {
        "id": "160bbfb2"
      },
      "source": [
        "# Por favor tente resolver o desafio sozinho, não pegue atalhos, tu consegue, é só colocar a cabeça para funcionar."
      ]
    },
    {
      "cell_type": "markdown",
      "id": "e0e85531",
      "metadata": {
        "id": "e0e85531"
      },
      "source": [
        "Execute a célula abaixo apenas uma vez."
      ]
    },
    {
      "cell_type": "code",
      "execution_count": 21,
      "id": "7d725090",
      "metadata": {
        "colab": {
          "base_uri": "https://localhost:8080/"
        },
        "id": "7d725090",
        "outputId": "613bb316-013a-4438-eb8e-2254c43524b9"
      },
      "outputs": [
        {
          "output_type": "stream",
          "name": "stderr",
          "text": [
            "Cloning into '30-day-challenges-with-sql'...\n"
          ]
        }
      ],
      "source": [
        "%%bash\n",
        "\n",
        "rm -rf /tmp/github; mkdir -p /tmp/github; cd /tmp/github\n",
        "git clone https://github.com/romeritomorais/30-day-challenges-with-sql.git\n",
        "sh /tmp/github/30-day-challenges-with-sql/challenges/utils/install-miniconda.sh > /dev/null 2>&1\n",
        "sh /tmp/github/30-day-challenges-with-sql/challenges/utils/update-miniconda.sh > /dev/null 2>&1"
      ]
    },
    {
      "cell_type": "markdown",
      "id": "467f1c4a",
      "metadata": {
        "id": "467f1c4a"
      },
      "source": [
        "Neste desafio precisamos que agrupe os dados da tabela `Invoice` e exiba apenas os maiores valores para cada `Customer.CustomerId` do \"Brazil\". Utilize funções como: `ROW_NUMBER e PARTITION` para resolver este problema.\n",
        "\n",
        "Critério:  \n",
        "Escreva essa transformação em apenas uma query. Boa sorte!\n",
        "\n",
        "resultado esperado:  \n",
        "\n",
        "|CustomerId|FirstName|LastName |country|total\n",
        "|----------:|--------:|--------:|------:|----\n",
        "|         1|Luís     |Gonçalves|Brazil |13.86\n",
        "|        10|Eduardo  |Martins  |Brazil |13.86\n",
        "|        11|Alexandre|Rocha    |Brazil |13.86\n",
        "|        12|Roberto  |Almeida  |Brazil |13.86\n",
        "|        13|Fernanda |Ramos    |Brazil |13.86\n",
        "\n",
        "Na célula onde se encontra o `%%sql`, escreva sua query, sem deletar o comando. Exemplo:  \n",
        "```python\n",
        "%%sql\n",
        "select * from Customer\n",
        "```\n",
        "\n",
        "Para resolução utilize a documentação do sqlite:https://www.sqlite.org/docs.html"
      ]
    },
    {
      "cell_type": "code",
      "execution_count": 23,
      "id": "2b36ffcd-323a-452a-a6a1-433be0285405",
      "metadata": {
        "colab": {
          "base_uri": "https://localhost:8080/",
          "height": 35
        },
        "id": "2b36ffcd-323a-452a-a6a1-433be0285405",
        "outputId": "fea2e699-4bff-4e05-c5c2-282b56e8e0a8"
      },
      "outputs": [
        {
          "output_type": "execute_result",
          "data": {
            "text/plain": [
              "'Connected: @//tmp/github/30-day-challenges-with-sql/challenges/utils/db/database.db'"
            ],
            "application/vnd.google.colaboratory.intrinsic+json": {
              "type": "string"
            }
          },
          "metadata": {},
          "execution_count": 23
        }
      ],
      "source": [
        "%load_ext sql\n",
        "%sql sqlite://///tmp/github/30-day-challenges-with-sql/challenges/utils/db/database.db"
      ]
    },
    {
      "cell_type": "code",
      "execution_count": 24,
      "id": "275157e9",
      "metadata": {
        "colab": {
          "base_uri": "https://localhost:8080/"
        },
        "id": "275157e9",
        "outputId": "8450f78c-e12c-4598-d3e0-8d92b2cd176d"
      },
      "outputs": [
        {
          "output_type": "stream",
          "name": "stdout",
          "text": [
            " * sqlite://///tmp/github/30-day-challenges-with-sql/challenges/utils/db/database.db\n",
            "(sqlite3.OperationalError) near \"(\": syntax error\n",
            "[SQL: select CustomerId,\n",
            "       FirstName,\n",
            "       LastName,\n",
            "       country,\n",
            "       total  \n",
            "  from (\n",
            "        select ROW_NUMBER() OVER(PARTITION BY country ORDER BY total DESC) AS Row,   \n",
            "               iv.CustomerId as CustomerId,\n",
            "               ct.FirstName  as FirstName,\n",
            "               ct.LastName   as LastName,\n",
            "               country       as country,\n",
            "              round(total,2) as total        \n",
            "          from invoice as iv\n",
            "         inner join customer as ct\n",
            "            on iv.CustomerId = ct.CustomerId\n",
            "         where country = 'Brazil'    \n",
            "        )  limit 5]\n",
            "(Background on this error at: https://sqlalche.me/e/14/e3q8)\n"
          ]
        }
      ],
      "source": [
        "%%sql\n",
        "select CustomerId,\n",
        "       FirstName,\n",
        "       LastName,\n",
        "       country,\n",
        "       total  \n",
        "  from (\n",
        "        select ROW_NUMBER() OVER(PARTITION BY country ORDER BY total DESC) AS Row,   \n",
        "               iv.CustomerId as CustomerId,\n",
        "               ct.FirstName  as FirstName,\n",
        "               ct.LastName   as LastName,\n",
        "               country       as country,\n",
        "              round(total,2) as total        \n",
        "          from invoice as iv\n",
        "         inner join customer as ct\n",
        "            on iv.CustomerId = ct.CustomerId\n",
        "         where country = 'Brazil'    \n",
        "        )  limit 5"
      ]
    }
  ],
  "metadata": {
    "kernelspec": {
      "display_name": "Python 3",
      "language": "python",
      "name": "python3"
    },
    "language_info": {
      "codemirror_mode": {
        "name": "ipython",
        "version": 3
      },
      "file_extension": ".py",
      "mimetype": "text/x-python",
      "name": "python",
      "nbconvert_exporter": "python",
      "pygments_lexer": "ipython3",
      "version": "3.10.4"
    },
    "colab": {
      "name": "notebook_challenge_008_level3.ipynb",
      "provenance": [],
      "include_colab_link": true
    }
  },
  "nbformat": 4,
  "nbformat_minor": 5
}